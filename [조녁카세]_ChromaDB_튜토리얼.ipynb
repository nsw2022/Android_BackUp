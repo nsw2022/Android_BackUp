{
  "cells": [
    {
      "cell_type": "markdown",
      "metadata": {
        "id": "view-in-github",
        "colab_type": "text"
      },
      "source": [
        "<a href=\"https://colab.research.google.com/github/nsw2022/Android_BackUp/blob/master/%5B%EC%A1%B0%EB%85%81%EC%B9%B4%EC%84%B8%5D_ChromaDB_%ED%8A%9C%ED%86%A0%EB%A6%AC%EC%96%BC.ipynb\" target=\"_parent\"><img src=\"https://colab.research.google.com/assets/colab-badge.svg\" alt=\"Open In Colab\"/></a>"
      ]
    },
    {
      "cell_type": "markdown",
      "source": [
        "- ChromaDB Doc : https://docs.trychroma.com/"
      ],
      "metadata": {
        "id": "bUL5SNvuK4h1"
      }
    },
    {
      "cell_type": "markdown",
      "metadata": {
        "id": "hIDdGw6hepiF"
      },
      "source": [
        "# 크로마를 사용한 기본 임베딩 검색 <br> (Basic embedding retrieval with Chroma)\n",
        "\n",
        "이 노트북은 임베딩을 사용해 정보를 저장하고 검색하는 가장 기본적인 크로마 사용법을 보여드립니다. 이 핵심 빌딩 블록은 많은 강력한 AI 애플리케이션의 핵심입니다.\n",
        "<br>\n",
        "This notebook demonstrates the most basic use of Chroma to store and retrieve information using embeddings. This core building block is at the heart of many powerful AI applications.\n",
        "\n",
        "## 임베딩이 뭔데? (What are embeddings?)\n",
        "\n",
        "임베딩은 모든 종류의 데이터를 표현하는 인공지능 고유의 방식으로, 모든 종류의 인공지능 기반 도구 및 알고리즘을 사용하는 데 적합합니다. 임베딩은 텍스트, 이미지, 그리고 곧 오디오와 비디오를 나타낼 수 있습니다.\n",
        "\n",
        "임베딩을 생성하려면 데이터를 임베딩 모델에 입력하면 숫자 벡터가 출력됩니다. 이 모델은 '유사한' 데이터(예: 비슷한 의미를 가진 텍스트 또는 비슷한 내용의 이미지)가 서로 다른 데이터보다 서로 더 가까운 벡터를 생성하도록 학습됩니다.\n",
        "\n",
        "<br>\n",
        "\n",
        "Embeddings are the A.I-native way to represent any kind of data, making them the perfect fit for working with all kinds of A.I-powered tools and algorithms. They can represent text, images, and soon audio and video.\n",
        "\n",
        "To create an embedding, data is fed into an embedding model, which outputs vectors of numbers. The model is trained in such a way that 'similar' data, e.g. text with similar meanings, or images with similar content, will produce vectors which are nearer to one another, than those which are dissimilar.\n",
        "\n",
        "## 임베딩과 검색기(Embeddings and retrieval)\n",
        "\n",
        "임베딩의 유사성 속성을 사용하여 정보를 검색하고 검색할 수 있습니다. 예를 들어 특정 주제와 관련된 문서나 특정 이미지와 유사한 이미지를 찾을 수 있습니다. 키워드나 태그를 검색하는 대신 의미론적 의미가 유사한 데이터를 찾아 검색할 수 있습니다.\n",
        "\n",
        "<br>\n",
        "We can use the similarity property of embeddings to search for and retrieve information. For example, we can find documents relevant to a particular topic, or images similar to a given image. Rather than searching for keywords or tags, we can search by finding data with similar semantic meaning.\n"
      ]
    },
    {
      "cell_type": "code",
      "execution_count": null,
      "metadata": {
        "id": "R1nkKfEUepiH"
      },
      "outputs": [],
      "source": [
        "%pip install -Uq chromadb numpy datasets"
      ]
    },
    {
      "cell_type": "markdown",
      "metadata": {
        "id": "6lfVmRQlepiI"
      },
      "source": [
        "## 예시 데이터(Example Dataset)\n",
        "\n",
        "데모로 허깅페이스에서 제공하는 SciQ 데이터 세트를 사용합니다.\n",
        "\n",
        "데이터 세트 설명, HuggingFace 제공:\n",
        "\n",
        "<br>\n",
        "\n",
        "As a demonstration we use the [SciQ dataset](https://arxiv.org/abs/1707.06209), available from [HuggingFace](https://huggingface.co/datasets/sciq).\n",
        "\n",
        "Dataset description, from HuggingFace:\n",
        "\n",
        "\n",
        "> SciQ 데이터 세트에는 물리학, 화학, 생물학 등에 관한 13,679개의 크라우드소싱 과학 시험 문제가 포함되어 있습니다. 문제는 각각 4개의 답안 옵션이 있는 객관식 형식으로 되어 있습니다. 대부분의 문제에는 정답에 대한 근거를 제시하는 추가 단락이 제공됩니다.\n",
        "\n",
        "<br>\n",
        "\n",
        "> The SciQ dataset contains 13,679 crowdsourced science exam questions about Physics, Chemistry and Biology, among others. The questions are in multiple-choice format with 4 answer options each. For the majority of the questions, an additional paragraph with supporting evidence for the correct answer is provided.\n",
        "\n",
        "이 노트북에서는 주어진 질문에 대한 근거 자료를 검색하는 방법을 보여드리겠습니다.\n",
        "\n",
        "In this notebook, we will demonstrate how to retrieve supporting evidence for a given question.\n"
      ]
    },
    {
      "cell_type": "code",
      "execution_count": null,
      "metadata": {
        "id": "N-wEyOQzepiI",
        "outputId": "9984441b-82be-4091-9200-d95001ad6ea8",
        "colab": {
          "base_uri": "https://localhost:8080/"
        }
      },
      "outputs": [
        {
          "output_type": "stream",
          "name": "stdout",
          "text": [
            "Number of questions :  11679\n",
            "Number of questions with support:  10481\n"
          ]
        }
      ],
      "source": [
        "# Get the SciQ dataset from HuggingFace\n",
        "from datasets import load_dataset\n",
        "\n",
        "dataset = load_dataset(\"sciq\", split=\"train\")\n",
        "\n",
        "print(\"Number of questions : \", len(dataset))\n",
        "\n",
        "# Filter the dataset to only include questions with a support\n",
        "dataset = dataset.filter(lambda x: x[\"support\"] != \"\")\n",
        "\n",
        "print(\"Number of questions with support: \", len(dataset))"
      ]
    },
    {
      "cell_type": "markdown",
      "metadata": {
        "id": "s8wXeIZKepiI"
      },
      "source": [
        "## Chroma에 데이터 로드(Loading the data into Chroma)\n",
        "\n",
        "Chroma에는 임베딩 모델이 내장되어 있어 텍스트를 간편하게 로드할 수 있습니다. 몇 줄의 코드만으로 SciQ 데이터 세트를 Chroma에 로드할 수 있습니다.\n",
        "\n",
        "<br>\n",
        "\n",
        "Chroma comes with a built-in embedding model, which makes it simple to load text.\n",
        "We can load the SciQ dataset into Chroma with just a few lines of code.\n",
        "\n"
      ]
    },
    {
      "cell_type": "code",
      "execution_count": null,
      "metadata": {
        "id": "YrcrqRzWepiI"
      },
      "outputs": [],
      "source": [
        "# Import Chroma and instantiate a client. The default Chroma client is ephemeral, meaning it will not save to disk.\n",
        "# Chroma를 가져와서 클라이언트를 인스턴스화합니다. 기본 Chroma 클라이언트는 임시적이므로 디스크에 저장되지 않습니다.\n",
        "\n",
        "import chromadb\n",
        "\n",
        "client = chromadb.Client()"
      ]
    },
    {
      "cell_type": "markdown",
      "source": [
        "- 컬렉션은 임베딩, 문서 및 추가 메타데이터를 저장하는 곳입니다. 이름을 지정하여 컬렉션을 만들 수 있습니다:"
      ],
      "metadata": {
        "id": "rkVYh_F0JHgz"
      }
    },
    {
      "cell_type": "code",
      "execution_count": null,
      "metadata": {
        "id": "JFKONr2mepiI"
      },
      "outputs": [],
      "source": [
        "# Create a new Chroma collection to store the supporting evidence. We don't need to specify an embedding fuction, and the default will be used.\n",
        "# 새 크로마 컬렉션을 만들어 증빙 자료를 저장합니다. 임베딩 함수를 지정할 필요는 없으며 기본값이 사용됩니다.\n",
        "collection = client.create_collection(\"sciq_supports\")"
      ]
    },
    {
      "cell_type": "code",
      "source": [
        "dataset"
      ],
      "metadata": {
        "colab": {
          "base_uri": "https://localhost:8080/"
        },
        "id": "5IfTOWMIIo4S",
        "outputId": "ab3cff9d-ad7a-430b-c71e-03821fbce11f"
      },
      "execution_count": null,
      "outputs": [
        {
          "output_type": "execute_result",
          "data": {
            "text/plain": [
              "Dataset({\n",
              "    features: ['question', 'distractor3', 'distractor1', 'distractor2', 'correct_answer', 'support'],\n",
              "    num_rows: 10481\n",
              "})"
            ]
          },
          "metadata": {},
          "execution_count": 12
        }
      ]
    },
    {
      "cell_type": "code",
      "source": [
        "dataset['support'][0]"
      ],
      "metadata": {
        "colab": {
          "base_uri": "https://localhost:8080/",
          "height": 108
        },
        "id": "h4UxhAK5Ijbr",
        "outputId": "f4c18fc9-2916-4885-9259-42ac70dafc80"
      },
      "execution_count": null,
      "outputs": [
        {
          "output_type": "execute_result",
          "data": {
            "text/plain": [
              "'Mesophiles grow best in moderate temperature, typically between 25°C and 40°C (77°F and 104°F). Mesophiles are often found living in or on the bodies of humans or other animals. The optimal growth temperature of many pathogenic mesophiles is 37°C (98°F), the normal human body temperature. Mesophilic organisms have important uses in food preparation, including cheese, yogurt, beer and wine.'"
            ],
            "application/vnd.google.colaboratory.intrinsic+json": {
              "type": "string"
            }
          },
          "metadata": {},
          "execution_count": 11
        }
      ]
    },
    {
      "cell_type": "markdown",
      "source": [
        "- 크로마는 텍스트를 저장하고 토큰화, 임베딩, 인덱싱을 자동으로 처리합니다."
      ],
      "metadata": {
        "id": "AkoCFibRJVoj"
      }
    },
    {
      "cell_type": "code",
      "execution_count": null,
      "metadata": {
        "id": "LNE9l1DTepiJ",
        "outputId": "43ed3485-dab0-491c-e9ee-15f5bb0701d4",
        "colab": {
          "base_uri": "https://localhost:8080/"
        }
      },
      "outputs": [
        {
          "output_type": "stream",
          "name": "stderr",
          "text": [
            "/root/.cache/chroma/onnx_models/all-MiniLM-L6-v2/onnx.tar.gz: 100%|██████████| 79.3M/79.3M [00:01<00:00, 56.8MiB/s]\n"
          ]
        }
      ],
      "source": [
        "# Embed and store the first 100 supports for this demo\n",
        "# 이 데모에 대한 앞 100개의 support 임베딩 및 저장하기\n",
        "collection.add(\n",
        "    ids=[str(i) for i in range(0, 100)],  # IDs are just strings\n",
        "    documents=dataset[\"support\"][:100],\n",
        "    metadatas=[{\"type\": \"support\"} for _ in range(0, 100)\n",
        "    ],\n",
        ")"
      ]
    },
    {
      "cell_type": "code",
      "source": [
        "collection"
      ],
      "metadata": {
        "colab": {
          "base_uri": "https://localhost:8080/"
        },
        "id": "hsLUSARaJfIK",
        "outputId": "990cf058-bd95-49fd-ce13-8cffa4398987"
      },
      "execution_count": null,
      "outputs": [
        {
          "output_type": "execute_result",
          "data": {
            "text/plain": [
              "Collection(name=sciq_supports)"
            ]
          },
          "metadata": {},
          "execution_count": 13
        }
      ]
    },
    {
      "cell_type": "markdown",
      "metadata": {
        "id": "1XOm1G9bepiJ"
      },
      "source": [
        "## 데이터 질의날리기(Querying the data)\n",
        "\n",
        "데이터가 로드되면 Chroma를 사용하여 데이터 세트의 질문에 대한 근거를 찾을 수 있습니다. 이 예에서는 임베딩 유사성 점수에 따라 가장 관련성이 높은 결과를 검색합니다.\n",
        "\n",
        "Chroma는 유사도 계산과 가장 관련성 높은 결과 찾기를 처리하므로 사용자는 애플리케이션 구축에 집중할 수 있습니다.\n",
        "\n",
        "<br>\n",
        "\n",
        "Once the data is loaded, we can use Chroma to find supporting evidence for the questions in the dataset.\n",
        "In this example, we retrieve the most relevant result according to the embedding similarity score.\n",
        "\n",
        "Chroma handles computing similarity and finding the most relevant results for you, so you can focus on building your application.\n"
      ]
    },
    {
      "cell_type": "code",
      "execution_count": null,
      "metadata": {
        "id": "ozGyfQHXepiJ"
      },
      "outputs": [],
      "source": [
        "results = collection.query(\n",
        "    query_texts=dataset[\"question\"][:10],\n",
        "    n_results=1)"
      ]
    },
    {
      "cell_type": "markdown",
      "metadata": {
        "id": "cMgxpE6AepiJ"
      },
      "source": [
        "검색된 \"supports\"와 함께 쿼리 질문을 표시합니다.\n",
        "\n",
        "we display the query questions along with their retrieved \"supports\""
      ]
    },
    {
      "cell_type": "code",
      "execution_count": null,
      "metadata": {
        "id": "kjw-Rn_ZepiJ",
        "outputId": "bb73896a-4772-4555-dc13-9d8e75809902",
        "colab": {
          "base_uri": "https://localhost:8080/"
        }
      },
      "outputs": [
        {
          "output_type": "stream",
          "name": "stdout",
          "text": [
            "Question: What type of organism is commonly used in preparation of foods such as cheese and yogurt?\n",
            "Retrieved support: Agents of Decomposition The fungus-like protist saprobes are specialized to absorb nutrients from nonliving organic matter, such as dead organisms or their wastes. For instance, many types of oomycetes grow on dead animals or algae. Saprobic protists have the essential function of returning inorganic nutrients to the soil and water. This process allows for new plant growth, which in turn generates sustenance for other organisms along the food chain. Indeed, without saprobe species, such as protists, fungi, and bacteria, life would cease to exist as all organic carbon became “tied up” in dead organisms.\n",
            "\n",
            "Question: What phenomenon makes global winds blow northeast to southwest or the reverse in the northern hemisphere and northwest to southeast or the reverse in the southern hemisphere?\n",
            "Retrieved support: Without Coriolis Effect the global winds would blow north to south or south to north. But Coriolis makes them blow northeast to southwest or the reverse in the Northern Hemisphere. The winds blow northwest to southeast or the reverse in the southern hemisphere.\n",
            "\n",
            "Question: Changes from a less-ordered state to a more-ordered state (such as a liquid to a solid) are always what?\n",
            "Retrieved support: Summary Changes of state are examples of phase changes, or phase transitions. All phase changes are accompanied by changes in the energy of a system. Changes from a more-ordered state to a less-ordered state (such as a liquid to a gas) areendothermic. Changes from a less-ordered state to a more-ordered state (such as a liquid to a solid) are always exothermic. The conversion of a solid to a liquid is called fusion (or melting). The energy required to melt 1 mol of a substance is its enthalpy of fusion (ΔHfus). The energy change required to vaporize 1 mol of a substance is the enthalpy of vaporization (ΔHvap). The direct conversion of a solid to a gas is sublimation. The amount of energy needed to sublime 1 mol of a substance is its enthalpy of sublimation (ΔHsub) and is the sum of the enthalpies of fusion and vaporization. Plots of the temperature of a substance versus heat added or versus heating time at a constant rate of heating are calledheating curves. Heating curves relate temperature changes to phase transitions. A superheated liquid, a liquid at a temperature and pressure at which it should be a gas, is not stable. A cooling curve is not exactly the reverse of the heating curve because many liquids do not freeze at the expected temperature. Instead, they form a supercooled liquid, a metastable liquid phase that exists below the normal melting point. Supercooled liquids usually crystallize on standing, or adding a seed crystal of the same or another substance can induce crystallization.\n",
            "\n",
            "Question: What is the least dangerous radioactive decay?\n",
            "Retrieved support: All radioactive decay is dangerous to living things, but alpha decay is the least dangerous.\n",
            "\n",
            "Question: Kilauea in hawaii is the world’s most continuously active volcano. very active volcanoes characteristically eject red-hot rocks and lava rather than this?\n",
            "Retrieved support: Example 3.5 Calculating Projectile Motion: Hot Rock Projectile Kilauea in Hawaii is the world’s most continuously active volcano. Very active volcanoes characteristically eject red-hot rocks and lava rather than smoke and ash. Suppose a large rock is ejected from the volcano with a speed of 25.0 m/s and at an angle 35.0º above the horizontal, as shown in Figure 3.40. The rock strikes the side of the volcano at an altitude 20.0 m lower than its starting point. (a) Calculate the time it takes the rock to follow this path. (b) What are the magnitude and direction of the rock’s velocity at impact?.\n",
            "\n",
            "Question: When a meteoroid reaches earth, what is the remaining object called?\n",
            "Retrieved support: Meteoroids are smaller than asteroids, ranging from the size of boulders to the size of sand grains. When meteoroids enter Earth’s atmosphere, they vaporize, creating a trail of glowing gas called a meteor. If any of the meteoroid reaches Earth, the remaining object is called a meteorite.\n",
            "\n",
            "Question: What kind of a reaction occurs when a substance reacts quickly with oxygen?\n",
            "Retrieved support: A combustion reaction occurs when a substance reacts quickly with oxygen (O 2 ). For example, in the Figure below , charcoal is combining with oxygen. Combustion is commonly called burning, and the substance that burns is usually referred to as fuel. The products of a complete combustion reaction include carbon dioxide (CO 2 ) and water vapor (H 2 O). The reaction typically gives off heat and light as well. The general equation for a complete combustion reaction is:.\n",
            "\n",
            "Question: Organisms categorized by what species descriptor demonstrate a version of allopatric speciation and have limited regions of overlap with one another, but where they overlap they interbreed successfully?.\n",
            "Retrieved support: Ring species Ring species demonstrate a version of allopatric speciation. Imagine populations of the species A. Over the geographic range of A there exist a number of subpopulations. These subpopulations (A1 to A5) and (Aa to Ae) have limited regions of overlap with one another but where they overlap they interbreed successfully. But populations A5 and Ae no longer interbreed successfully – are these populations separate species?  In this case, there is no clear-cut answer, but it is likely that in the link between the various populations will be broken and one or more species may form in the future. Consider the black bear Ursus americanus. Originally distributed across all of North America, its distribution is now much more fragmented. Isolated populations are free to adapt to their own particular environments and migration between populations is limited. Clearly the environment in Florida is different from that in Mexico, Alaska, or Newfoundland. Different environments will favor different adaptations. If, over time, these populations were to come back into contact with one another, they might or might not be able to interbreed successfully - reproductive isolation may occur and one species may become many.\n",
            "\n",
            "Question: Alpha emission is a type of what?\n",
            "Retrieved support: One type of radioactivity is alpha emission. What is an alpha particle? What happens to an alpha particle after it is emitted from an unstable nucleus?.\n",
            "\n",
            "Question: What is the stored food in a seed called?\n",
            "Retrieved support: The stored food in a seed is called endosperm . It nourishes the embryo until it can start making food on its own.\n",
            "\n"
          ]
        }
      ],
      "source": [
        "# Print the question and the corresponding support\n",
        "for i, q in enumerate(dataset['question'][:10]):\n",
        "    print(f\"Question: {q}\")\n",
        "    print(f\"Retrieved support: {results['documents'][i][0]}\")\n",
        "    print()"
      ]
    },
    {
      "cell_type": "markdown",
      "metadata": {
        "id": "AKNEJjHaepiJ"
      },
      "source": [
        "## 다음엔 무엇을? (What's next?)\n",
        "\n",
        "나만의 애플리케이션 구축을 시작하려면 크로마 [설명서](https://docs.trychroma.com/getting-started)를 확인하세요.\n",
        "\n",
        "여기에 설명된 핵심 임베딩 기반 검색 기능은 문서와 [채팅하기](https://github.com/chroma-core/chroma/tree/main/examples/chat_with_your_documents) 위한 대규모 언어 모델과 [BabyAgi](https://github.com/yoheinakajima/babyagi) and [Voyager](https://github.com/MineDojo/Voyager). 와 같은 에이전트를 위한 메모리 등 많은 강력한 AI 애플리케이션의 핵심입니다.\n",
        "\n",
        "Chroma는 이미  [LangChain](https://python.langchain.com/docs/integrations/vectorstores/chroma) and [LlamaIndex](https://gpt-index.readthedocs.io/en/latest/examples/vector_stores/ChromaIndexDemo.html)를 비롯한 많은 인기 있는 AI 애플리케이션 프레임워크와 통합되어 있습니다.\n",
        "\n",
        "커뮤니티에 가입하여 자세히 알아보고 프로젝트에 대한 도움을 받으세요: [Discord](https://discord.gg/MMeYNTmh3x) | [Twitter](https://twitter.com/trychroma)\n",
        "\n",
        "[채용 중](https://trychroma.notion.site/careers-chroma-9d017c3007c7478ebd85bad854101497?pvs=4)\n",
        "입니다!\n",
        "\n",
        "<br>\n",
        "\n",
        "\n",
        "Check out the Chroma documentation to [get started](https://docs.trychroma.com/getting-started) with building your own applications.\n",
        "\n",
        "The core embeddings based retrieval functionality demonstrated here is at the heart of many powerful AI applications, like using large language models with Chroma to [chat with your documents](https://github.com/chroma-core/chroma/tree/main/examples/chat_with_your_documents), as well as memory for agents like [BabyAgi](https://github.com/yoheinakajima/babyagi) and [Voyager](https://github.com/MineDojo/Voyager).\n",
        "\n",
        "Chroma is already integrated with many popular AI applications frameworks, including [LangChain](https://python.langchain.com/docs/integrations/vectorstores/chroma) and [LlamaIndex](https://gpt-index.readthedocs.io/en/latest/examples/vector_stores/ChromaIndexDemo.html).\n",
        "\n",
        "Join our community to learn more and get help with your projects: [Discord](https://discord.gg/MMeYNTmh3x) | [Twitter](https://twitter.com/trychroma)\n",
        "\n",
        "We are [hiring](https://trychroma.notion.site/careers-chroma-9d017c3007c7478ebd85bad854101497?pvs=4)!"
      ]
    },
    {
      "cell_type": "code",
      "source": [],
      "metadata": {
        "id": "QSW4O1MXJ40m"
      },
      "execution_count": null,
      "outputs": []
    }
  ],
  "metadata": {
    "kernelspec": {
      "display_name": "Python 3",
      "language": "python",
      "name": "python3"
    },
    "language_info": {
      "codemirror_mode": {
        "name": "ipython",
        "version": 3
      },
      "file_extension": ".py",
      "mimetype": "text/x-python",
      "name": "python",
      "nbconvert_exporter": "python",
      "pygments_lexer": "ipython3",
      "version": "3.10.12"
    },
    "orig_nbformat": 4,
    "colab": {
      "provenance": [],
      "include_colab_link": true
    }
  },
  "nbformat": 4,
  "nbformat_minor": 0
}